{
 "cells": [
  {
   "cell_type": "code",
   "execution_count": null,
   "metadata": {},
   "outputs": [],
   "source": [
    "sc.pp.normalize_total(w1118_42d, target_sum=1e4) ## 10,000 reads per cell\n",
    "sc.pp.log1p(w1118_42d)\n",
    "\n",
    "sc.pp.highly_variable_genes(w1118_42d, min_mean=0.0125, max_mean=3, min_disp=0.5)\n",
    "with plt.rc_context({\"figure.figsize\": (6, 6), \"figure.dpi\": (60)}):\n",
    "    sc.pl.highly_variable_genes(w1118_42d)\n",
    "w1118_42d.raw = w1118_42d\n",
    "w1118_42d.write(outputfile)\n",
    "sc.tl.pca(w1118_42d, svd_solver=\"arpack\")\n",
    "fig,ax= plt.subplots(1,3,figsize=(13,4))\n",
    "sc.pl.pca(w1118_42d, color=\"elav\",show=False,ax=ax[0])\n",
    "sc.pl.pca(w1118_42d, color=\"repo\",show=False,ax=ax[1])\n",
    "sc.pl.pca(w1118_42d, color=\"drpr\",show=False,ax=ax[2])\n",
    "sc.pl.pca_variance_ratio(w1118_42d, log=True)\n",
    "w1118_42d.write(outputfile)\n",
    "sc.pp.neighbors(w1118_42d, n_neighbors=50, n_pcs=30)\n",
    "sc.tl.leiden(\n",
    "    w1118_42d,\n",
    "    resolution=0.2,\n",
    "    random_state=1,\n",
    "    n_iterations=20,\n",
    "    directed=False,\n",
    ")\n",
    "\n",
    "sc.tl.paga(w1118_42d)\n",
    "sc.pl.paga(w1118_42d, plot=False)  # remove `plot=False` if you want to see the coarse-grained graph\n",
    "sc.tl.umap(w1118_42d, init_pos='paga')\n",
    "\n",
    "sc.pl.umap(w1118_42d, color=[\"leiden\",\n",
    "                            \"elav\", \"lncRNA:noe\",\"VAChT\", \"VGlut\",\"Gad1\",\"Vmat\", ##neurons\n",
    "                             \"repo\", \"lncRNA:CR34335\",\"alrm\",\"wrapper\",\"Indy\",\"moody\", ##glia \n",
    "                             \"ninaC\",\"trp\",\"trpl\", ## photoreceptors\n",
    "                             \"Hml\",\"ppl\",\"drpr\"], size=23)\n",
    "\n",
    "\n",
    "sc.tl.rank_genes_groups(w1118_42d, \"leiden\", method=\"t-test\")\n",
    "sc.pl.rank_genes_groups(w1118_42d, n_genes=25, sharey=False)\n",
    "\n",
    "sc.tl.rank_genes_groups(w1118_42d, \"leiden\", method=\"wilcoxon\")\n",
    "sc.pl.rank_genes_groups(w1118_42d, n_genes=25, sharey=False)\n",
    "\n",
    "sc.tl.rank_genes_groups(w1118_42d, \"leiden\", method=\"logreg\", max_iter=1000)\n",
    "sc.pl.rank_genes_groups(w1118_42d, n_genes=25, sharey=False)\n"
   ]
  }
 ],
 "metadata": {
  "language_info": {
   "name": "python"
  },
  "orig_nbformat": 4
 },
 "nbformat": 4,
 "nbformat_minor": 2
}
