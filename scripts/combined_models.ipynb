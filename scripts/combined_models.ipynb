{
 "cells": [
  {
   "attachments": {},
   "cell_type": "markdown",
   "metadata": {},
   "source": [
    "## Train head and antenna combined model"
   ]
  },
  {
   "cell_type": "code",
   "execution_count": null,
   "metadata": {},
   "outputs": [],
   "source": [
    "import numpy as np\n",
    "import pandas as pd\n",
    "import anndata as ad\n",
    "import scanpy as sc\n",
    "import torch\n",
    "import scvi\n",
    "import scarches as sca\n",
    "from scarches.dataset.trvae.data_handling import remove_sparsity\n",
    "from scipy.sparse import csr_matrix\n",
    "from scipy.stats import median_abs_deviation\n",
    "import seaborn as sns\n",
    "from pathlib import Path\n",
    "import matplotlib.pyplot as plt\n",
    "import gdown\n",
    "import copy as cp\n",
    "import os\n",
    "import plotnine as p\n",
    "\n",
    "sns.set_style('white')\n",
    "sns.set(font_scale=1.5)\n",
    "sc.settings.set_figure_params(dpi=80, facecolor=\"white\")\n",
    "sc.logging.print_header()\n",
    "sc.settings.verbosity = 3\n",
    "\n",
    "\n",
    "print(os.getenv(\"CUDA_VISIBLE_DEVICES\"))\n",
    "os.environ[\"CUDA_VISIBLE_DEVICES\"]=os.getenv(\"CUDA_VISIBLE_DEVICES\")\n",
    "\n",
    "print(torch.cuda.is_available())\n",
    "print(torch.cuda.device_count())\n",
    "print(torch.cuda.current_device())\n",
    "print(torch.cuda.device(0))\n",
    "print(torch.cuda.get_device_name(0))\n"
   ]
  },
  {
   "cell_type": "code",
   "execution_count": null,
   "metadata": {},
   "outputs": [],
   "source": [
    "\n",
    "## Set up I/O directories\n",
    "basepath = Path(\"/projectnb/mccall/sbandyadka/drpr42d_snrnaseq/\")\n",
    "referencepath = basepath.joinpath('reference','FCA')\n",
    "outputpath = basepath.joinpath('analysis','scarches')"
   ]
  },
  {
   "cell_type": "code",
   "execution_count": null,
   "metadata": {},
   "outputs": [],
   "source": [
    "## Read reference h5ad \n",
    "fca_reference_head = sc.read_h5ad(referencepath.joinpath(\"v2_fca_biohub_head_10x_raw.h5ad\"))\n",
    "fca_reference_antenna = sc.read_h5ad(referencepath.joinpath(\"v2_fca_biohub_antenna_10x_raw.h5ad\"))\n",
    "\n",
    "fca_reference_head.layers[\"counts\"] = fca_reference_head.X.copy()\n",
    "fca_reference_antenna.layers[\"counts\"] = fca_reference_antenna.X.copy()\n",
    "\n",
    "fca_reference_head.obs['tissue'] = \"fca_head\"\n",
    "fca_reference_head.obs['tissue_batch'] = fca_reference_head.obs['batch'].astype(str)+\"_\"+fca_reference_head.obs['tissue'].astype(str)\n",
    "fca_reference_antenna.obs['tissue'] = \"fca_antenna\"\n",
    "fca_reference_antenna.obs['tissue_batch'] = fca_reference_antenna.obs['batch'].astype(str)+\"_\"+fca_reference_antenna.obs['tissue'].astype(str)"
   ]
  },
  {
   "cell_type": "code",
   "execution_count": null,
   "metadata": {},
   "outputs": [],
   "source": [
    "print(fca_reference_head.var.index.is_unique)\n",
    "print(fca_reference_antenna.var.index.is_unique)\n",
    "print(fca_reference_head.shape,fca_reference_antenna.shape)"
   ]
  },
  {
   "cell_type": "code",
   "execution_count": null,
   "metadata": {},
   "outputs": [],
   "source": [
    "fca_reference_combined = ad.concat([fca_reference_head,fca_reference_antenna])\n",
    "#fca_reference_combined = fca_reference_head.concatenate(fca_reference_antenna,join='outer', batch_key=\"concatbatch\")\n",
    "fca_reference_combined.layers[\"counts\"] = fca_reference_combined.X.copy()\n",
    "fca_reference_combined\n",
    "\n"
   ]
  },
  {
   "cell_type": "code",
   "execution_count": null,
   "metadata": {},
   "outputs": [],
   "source": [
    "print(fca_reference_combined.var.index.is_unique)\n",
    "fca_reference_combined.obs['tissue'].value_counts()"
   ]
  },
  {
   "cell_type": "code",
   "execution_count": null,
   "metadata": {},
   "outputs": [],
   "source": [
    "sc.pp.normalize_total(fca_reference_combined)\n",
    "sc.pp.log1p(fca_reference_combined)\n",
    "fca_reference_combined.raw = fca_reference_combined"
   ]
  },
  {
   "cell_type": "code",
   "execution_count": null,
   "metadata": {},
   "outputs": [],
   "source": [
    "sc.pp.highly_variable_genes(\n",
    "    fca_reference_combined,\n",
    "    n_top_genes=2000,\n",
    "    layer=\"counts\",\n",
    "    batch_key=\"tissue_batch\",\n",
    "    subset=True,\n",
    ")"
   ]
  },
  {
   "cell_type": "code",
   "execution_count": null,
   "metadata": {},
   "outputs": [],
   "source": [
    "sca.models.SCVI.setup_anndata(fca_reference_combined, batch_key=\"tissue_batch\", \n",
    "                              categorical_covariate_keys=[\"age\",\"fly_genetics\",\"tissue\",\"tissue_batch\",\"dissection_lab\",\"sex\"])\n",
    "\n",
    "#sca.models.SCVI.setup_anndata(fca_reference_combined, batch_key=\"tissue_batch\")"
   ]
  },
  {
   "cell_type": "code",
   "execution_count": null,
   "metadata": {},
   "outputs": [],
   "source": [
    "sc.pp.highly_variable_genes(\n",
    "    fca_reference_combined,\n",
    "    n_top_genes=2000,\n",
    "    batch_key=\"tissue_batch\",\n",
    "    subset=True)"
   ]
  },
  {
   "cell_type": "code",
   "execution_count": null,
   "metadata": {},
   "outputs": [],
   "source": [
    "fca_reference_combined"
   ]
  },
  {
   "cell_type": "code",
   "execution_count": null,
   "metadata": {},
   "outputs": [],
   "source": [
    "\n",
    "combined_vae = sca.models.SCVI(\n",
    "    fca_reference_combined,\n",
    "    n_layers=2,\n",
    "    encode_covariates=True,\n",
    "    deeply_inject_covariates=True,\n",
    "    use_layer_norm=\"both\",\n",
    "    use_batch_norm=\"none\"\n",
    ")"
   ]
  },
  {
   "cell_type": "code",
   "execution_count": null,
   "metadata": {},
   "outputs": [],
   "source": [
    "combined_vae.train(max_epochs=2, check_val_every_n_epoch = 1)"
   ]
  },
  {
   "cell_type": "code",
   "execution_count": null,
   "metadata": {},
   "outputs": [],
   "source": []
  }
 ],
 "metadata": {
  "kernelspec": {
   "display_name": "drpr_snrnaseq_gpu",
   "language": "python",
   "name": "python3"
  },
  "language_info": {
   "codemirror_mode": {
    "name": "ipython",
    "version": 3
   },
   "file_extension": ".py",
   "mimetype": "text/x-python",
   "name": "python",
   "nbconvert_exporter": "python",
   "pygments_lexer": "ipython3",
   "version": "3.12.2"
  },
  "orig_nbformat": 4
 },
 "nbformat": 4,
 "nbformat_minor": 2
}
