{
 "cells": [
  {
   "cell_type": "code",
   "execution_count": null,
   "metadata": {},
   "outputs": [],
   "source": [
    "fca_reference_head = sc.read_h5ad(referencepath.joinpath(\"v2_fca_biohub_head_10x_raw.h5ad\"))\n",
    "fca_reference_antenna = sc.read_h5ad(referencepath.joinpath(\"v2_fca_biohub_antenna_10x_raw.h5ad\"))\n",
    "\n",
    "fca_reference_head.layers[\"counts\"] = fca_reference_head.X.copy()\n",
    "fca_reference_antenna.layers[\"counts\"] = fca_reference_antenna.X.copy()\n",
    "\n",
    "fca_reference_head.obs['tissue'] = \"fca_head\"\n",
    "fca_reference_head.obs['tissue_batch'] = fca_reference_head.obs['batch'].astype(str)+\"_\"+fca_reference_head.obs['tissue'].astype(str)\n",
    "fca_reference_antenna.obs['tissue'] = \"fca_antenna\"\n",
    "fca_reference_antenna.obs['tissue_batch'] = fca_reference_antenna.obs['batch'].astype(str)+\"_\"+fca_reference_antenna.obs['tissue'].astype(str)\n",
    "\n",
    "print(fca_reference_head.var.index.is_unique)\n",
    "print(fca_reference_antenna.var.index.is_unique)\n",
    "\n",
    "\n",
    "fca_reference_combined = fca_reference_head.concatenate(fca_reference_antenna,join='outer', batch_key=\"concatbatch\")\n",
    "fca_reference_combined.layers[\"counts\"] = fca_reference_combined.X.copy()\n",
    "fca_reference_combined\n"
   ]
  },
  {
   "cell_type": "code",
   "execution_count": null,
   "metadata": {},
   "outputs": [],
   "source": [
    "sca.models.SCVI.setup_anndata(fca_reference_combined, batch_key=\"tissue_batch\", categorical_covariate_keys=[\"age\",\"fly_genetics\",\"tissue\",\"tissue_batch\",\"dissection_lab\",\"sex\"])"
   ]
  },
  {
   "cell_type": "code",
   "execution_count": null,
   "metadata": {},
   "outputs": [],
   "source": [
    "sc.pp.normalize_total(fca_reference_combined)\n",
    "sc.pp.log1p(fca_reference_combined)\n",
    "fca_reference_combined.raw = fca_reference_combined\n",
    "combined_vae = sca.models.SCVI(\n",
    "    fca_reference_combined,\n",
    "    n_layers=2,\n",
    "    encode_covariates=True,\n",
    "    deeply_inject_covariates=True,\n",
    "    use_layer_norm=\"both\",\n",
    "    use_batch_norm=\"none\"\n",
    ")"
   ]
  },
  {
   "cell_type": "code",
   "execution_count": null,
   "metadata": {},
   "outputs": [],
   "source": [
    "combined_vae.train(max_epochs=2, check_val_every_n_epoch = 1)"
   ]
  }
 ],
 "metadata": {
  "language_info": {
   "name": "python"
  },
  "orig_nbformat": 4
 },
 "nbformat": 4,
 "nbformat_minor": 2
}
