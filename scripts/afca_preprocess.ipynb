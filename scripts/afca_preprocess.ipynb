{
 "cells": [
  {
   "attachments": {},
   "cell_type": "markdown",
   "metadata": {},
   "source": [
    "## Prepare Aging FCA data for use as scArches reference\n",
    "Get raw counts from raw 10x cell ranger files and get annotations from processed AFCA data portal. \n",
    "Create a new h5 file with raw counts and annotations. "
   ]
  },
  {
   "cell_type": "code",
   "execution_count": 117,
   "metadata": {},
   "outputs": [],
   "source": [
    "import numpy as np\n",
    "import pandas as pd\n",
    "import anndata as ad\n",
    "import scanpy as sc\n",
    "import scvi\n",
    "from pathlib import Path\n",
    "import glob"
   ]
  },
  {
   "cell_type": "code",
   "execution_count": 118,
   "metadata": {},
   "outputs": [
    {
     "name": "stdout",
     "output_type": "stream",
     "text": [
      "['/projectnb/mccall/sbandyadka/drpr42d_snrnaseq/reference/AFCA/cellrangerSummary/allH5_filter/Male_head_adult_30dWT_S2.h5', '/projectnb/mccall/sbandyadka/drpr42d_snrnaseq/reference/AFCA/cellrangerSummary/allH5_filter/Female_head_adult_30dWT_S1.h5', '/projectnb/mccall/sbandyadka/drpr42d_snrnaseq/reference/AFCA/cellrangerSummary/allH5_filter/Male_head_adult_30dWT_S6.h5', '/projectnb/mccall/sbandyadka/drpr42d_snrnaseq/reference/AFCA/cellrangerSummary/allH5_filter/Male_head_adult_50dWT_S3.h5', '/projectnb/mccall/sbandyadka/drpr42d_snrnaseq/reference/AFCA/cellrangerSummary/allH5_filter/Male_head_adult_70dWT_S1.h5', '/projectnb/mccall/sbandyadka/drpr42d_snrnaseq/reference/AFCA/cellrangerSummary/allH5_filter/Male_body_adult_70dWT_S1.h5', '/projectnb/mccall/sbandyadka/drpr42d_snrnaseq/reference/AFCA/cellrangerSummary/allH5_filter/Male_head_adult_50dWT_S5.h5', '/projectnb/mccall/sbandyadka/drpr42d_snrnaseq/reference/AFCA/cellrangerSummary/allH5_filter/Female_head_adult_50dWT_S6.h5', '/projectnb/mccall/sbandyadka/drpr42d_snrnaseq/reference/AFCA/cellrangerSummary/allH5_filter/Female_head_adult_50dWT_S2.h5', '/projectnb/mccall/sbandyadka/drpr42d_snrnaseq/reference/AFCA/cellrangerSummary/allH5_filter/Female_head_adult_50dWT_S1.h5', '/projectnb/mccall/sbandyadka/drpr42d_snrnaseq/reference/AFCA/cellrangerSummary/allH5_filter/Male_body_adult_30dWT_S3.h5', '/projectnb/mccall/sbandyadka/drpr42d_snrnaseq/reference/AFCA/cellrangerSummary/allH5_filter/Female_body_adult_30dWT_S5.h5', '/projectnb/mccall/sbandyadka/drpr42d_snrnaseq/reference/AFCA/cellrangerSummary/allH5_filter/Male_head_adult_70dWT_S4.h5', '/projectnb/mccall/sbandyadka/drpr42d_snrnaseq/reference/AFCA/cellrangerSummary/allH5_filter/Female_body_adult_50dWT_S6.h5', '/projectnb/mccall/sbandyadka/drpr42d_snrnaseq/reference/AFCA/cellrangerSummary/allH5_filter/Male_body_adult_50dWT_S6.h5', '/projectnb/mccall/sbandyadka/drpr42d_snrnaseq/reference/AFCA/cellrangerSummary/allH5_filter/Male_head_adult_30dWT_S5.h5', '/projectnb/mccall/sbandyadka/drpr42d_snrnaseq/reference/AFCA/cellrangerSummary/allH5_filter/Male_body_adult_70dWT_S5.h5', '/projectnb/mccall/sbandyadka/drpr42d_snrnaseq/reference/AFCA/cellrangerSummary/allH5_filter/Female_body_adult_30dWT_S6.h5', '/projectnb/mccall/sbandyadka/drpr42d_snrnaseq/reference/AFCA/cellrangerSummary/allH5_filter/Male_head_adult_30dWT_S1.h5', '/projectnb/mccall/sbandyadka/drpr42d_snrnaseq/reference/AFCA/cellrangerSummary/allH5_filter/Female_body_adult_50dWT_S3.h5', '/projectnb/mccall/sbandyadka/drpr42d_snrnaseq/reference/AFCA/cellrangerSummary/allH5_filter/Male_head_adult_50dWT_S6.h5', '/projectnb/mccall/sbandyadka/drpr42d_snrnaseq/reference/AFCA/cellrangerSummary/allH5_filter/Male_body_adult_50dWT_S4.h5', '/projectnb/mccall/sbandyadka/drpr42d_snrnaseq/reference/AFCA/cellrangerSummary/allH5_filter/Male_body_adult_70dWT_S3.h5', '/projectnb/mccall/sbandyadka/drpr42d_snrnaseq/reference/AFCA/cellrangerSummary/allH5_filter/Female_head_adult_30dWT_S5.h5', '/projectnb/mccall/sbandyadka/drpr42d_snrnaseq/reference/AFCA/cellrangerSummary/allH5_filter/Male_body_adult_50dWT_S2.h5', '/projectnb/mccall/sbandyadka/drpr42d_snrnaseq/reference/AFCA/cellrangerSummary/allH5_filter/Female_body_adult_70dWT_S3.h5', '/projectnb/mccall/sbandyadka/drpr42d_snrnaseq/reference/AFCA/cellrangerSummary/allH5_filter/Male_head_adult_70dWT_S5.h5', '/projectnb/mccall/sbandyadka/drpr42d_snrnaseq/reference/AFCA/cellrangerSummary/allH5_filter/Male_head_adult_70dWT_S2.h5', '/projectnb/mccall/sbandyadka/drpr42d_snrnaseq/reference/AFCA/cellrangerSummary/allH5_filter/Male_body_adult_30dWT_S1.h5', '/projectnb/mccall/sbandyadka/drpr42d_snrnaseq/reference/AFCA/cellrangerSummary/allH5_filter/Male_body_adult_30dWT_S2.h5', '/projectnb/mccall/sbandyadka/drpr42d_snrnaseq/reference/AFCA/cellrangerSummary/allH5_filter/Female_body_adult_50dWT_S2.h5', '/projectnb/mccall/sbandyadka/drpr42d_snrnaseq/reference/AFCA/cellrangerSummary/allH5_filter/Female_head_adult_70dWT_S6.h5', '/projectnb/mccall/sbandyadka/drpr42d_snrnaseq/reference/AFCA/cellrangerSummary/allH5_filter/Male_head_adult_30dWT_S3.h5', '/projectnb/mccall/sbandyadka/drpr42d_snrnaseq/reference/AFCA/cellrangerSummary/allH5_filter/Female_head_adult_50dWT_S4.h5', '/projectnb/mccall/sbandyadka/drpr42d_snrnaseq/reference/AFCA/cellrangerSummary/allH5_filter/Female_head_adult_30dWT_S4.h5', '/projectnb/mccall/sbandyadka/drpr42d_snrnaseq/reference/AFCA/cellrangerSummary/allH5_filter/Male_head_adult_50dWT_S4.h5', '/projectnb/mccall/sbandyadka/drpr42d_snrnaseq/reference/AFCA/cellrangerSummary/allH5_filter/Female_head_adult_70dWT_S2.h5', '/projectnb/mccall/sbandyadka/drpr42d_snrnaseq/reference/AFCA/cellrangerSummary/allH5_filter/Female_head_adult_70dWT_S4.h5', '/projectnb/mccall/sbandyadka/drpr42d_snrnaseq/reference/AFCA/cellrangerSummary/allH5_filter/Male_body_adult_30dWT_S6.h5', '/projectnb/mccall/sbandyadka/drpr42d_snrnaseq/reference/AFCA/cellrangerSummary/allH5_filter/Female_head_adult_70dWT_S1.h5', '/projectnb/mccall/sbandyadka/drpr42d_snrnaseq/reference/AFCA/cellrangerSummary/allH5_filter/Female_body_adult_30dWT_S3.h5', '/projectnb/mccall/sbandyadka/drpr42d_snrnaseq/reference/AFCA/cellrangerSummary/allH5_filter/Female_head_adult_50dWT_S5.h5', '/projectnb/mccall/sbandyadka/drpr42d_snrnaseq/reference/AFCA/cellrangerSummary/allH5_filter/Male_body_adult_50dWT_S3.h5', '/projectnb/mccall/sbandyadka/drpr42d_snrnaseq/reference/AFCA/cellrangerSummary/allH5_filter/Male_head_adult_70dWT_S6.h5', '/projectnb/mccall/sbandyadka/drpr42d_snrnaseq/reference/AFCA/cellrangerSummary/allH5_filter/Male_body_adult_50dWT_S5.h5', '/projectnb/mccall/sbandyadka/drpr42d_snrnaseq/reference/AFCA/cellrangerSummary/allH5_filter/Male_body_adult_70dWT_S4.h5', '/projectnb/mccall/sbandyadka/drpr42d_snrnaseq/reference/AFCA/cellrangerSummary/allH5_filter/Female_body_adult_50dWT_S5.h5', '/projectnb/mccall/sbandyadka/drpr42d_snrnaseq/reference/AFCA/cellrangerSummary/allH5_filter/Female_head_adult_30dWT_S2.h5', '/projectnb/mccall/sbandyadka/drpr42d_snrnaseq/reference/AFCA/cellrangerSummary/allH5_filter/Female_head_adult_30dWT_S6.h5', '/projectnb/mccall/sbandyadka/drpr42d_snrnaseq/reference/AFCA/cellrangerSummary/allH5_filter/Female_body_adult_70dWT_S6.h5', '/projectnb/mccall/sbandyadka/drpr42d_snrnaseq/reference/AFCA/cellrangerSummary/allH5_filter/Male_head_adult_50dWT_S2.h5', '/projectnb/mccall/sbandyadka/drpr42d_snrnaseq/reference/AFCA/cellrangerSummary/allH5_filter/Female_body_adult_70dWT_S5.h5', '/projectnb/mccall/sbandyadka/drpr42d_snrnaseq/reference/AFCA/cellrangerSummary/allH5_filter/Female_head_adult_30dWT_S3.h5', '/projectnb/mccall/sbandyadka/drpr42d_snrnaseq/reference/AFCA/cellrangerSummary/allH5_filter/Female_body_adult_70dWT_S2.h5', '/projectnb/mccall/sbandyadka/drpr42d_snrnaseq/reference/AFCA/cellrangerSummary/allH5_filter/Female_body_adult_50dWT_S4.h5', '/projectnb/mccall/sbandyadka/drpr42d_snrnaseq/reference/AFCA/cellrangerSummary/allH5_filter/Male_head_adult_70dWT_S3.h5', '/projectnb/mccall/sbandyadka/drpr42d_snrnaseq/reference/AFCA/cellrangerSummary/allH5_filter/Female_head_adult_70dWT_S3.h5', '/projectnb/mccall/sbandyadka/drpr42d_snrnaseq/reference/AFCA/cellrangerSummary/allH5_filter/Female_body_adult_50dWT_S1.h5', '/projectnb/mccall/sbandyadka/drpr42d_snrnaseq/reference/AFCA/cellrangerSummary/allH5_filter/Female_body_adult_30dWT_S2.h5', '/projectnb/mccall/sbandyadka/drpr42d_snrnaseq/reference/AFCA/cellrangerSummary/allH5_filter/Female_body_adult_30dWT_S4.h5', '/projectnb/mccall/sbandyadka/drpr42d_snrnaseq/reference/AFCA/cellrangerSummary/allH5_filter/Female_head_adult_50dWT_S3.h5', '/projectnb/mccall/sbandyadka/drpr42d_snrnaseq/reference/AFCA/cellrangerSummary/allH5_filter/Female_body_adult_70dWT_S4.h5', '/projectnb/mccall/sbandyadka/drpr42d_snrnaseq/reference/AFCA/cellrangerSummary/allH5_filter/Male_body_adult_70dWT_S6.h5', '/projectnb/mccall/sbandyadka/drpr42d_snrnaseq/reference/AFCA/cellrangerSummary/allH5_filter/Female_head_adult_70dWT_S5.h5', '/projectnb/mccall/sbandyadka/drpr42d_snrnaseq/reference/AFCA/cellrangerSummary/allH5_filter/Female_body_adult_30dWT_S1.h5', '/projectnb/mccall/sbandyadka/drpr42d_snrnaseq/reference/AFCA/cellrangerSummary/allH5_filter/Male_body_adult_30dWT_S5.h5', '/projectnb/mccall/sbandyadka/drpr42d_snrnaseq/reference/AFCA/cellrangerSummary/allH5_filter/Female_body_adult_70dWT_S1.h5', '/projectnb/mccall/sbandyadka/drpr42d_snrnaseq/reference/AFCA/cellrangerSummary/allH5_filter/Male_body_adult_50dWT_S1.h5', '/projectnb/mccall/sbandyadka/drpr42d_snrnaseq/reference/AFCA/cellrangerSummary/allH5_filter/Male_head_adult_30dWT_S4.h5', '/projectnb/mccall/sbandyadka/drpr42d_snrnaseq/reference/AFCA/cellrangerSummary/allH5_filter/Male_body_adult_30dWT_S4.h5', '/projectnb/mccall/sbandyadka/drpr42d_snrnaseq/reference/AFCA/cellrangerSummary/allH5_filter/Male_body_adult_70dWT_S2.h5', '/projectnb/mccall/sbandyadka/drpr42d_snrnaseq/reference/AFCA/cellrangerSummary/allH5_filter/Male_head_adult_50dWT_S1.h5']\n"
     ]
    }
   ],
   "source": [
    "## Read cellranger raw h5 files\n",
    "unannotated_h5_path = \"/projectnb/mccall/sbandyadka/drpr42d_snrnaseq/reference/AFCA/cellrangerSummary/allH5_filter/*.h5\"\n",
    "h5files = glob.glob(unannotated_h5_path)\n",
    "print(h5files)"
   ]
  },
  {
   "cell_type": "code",
   "execution_count": 119,
   "metadata": {},
   "outputs": [
    {
     "name": "stdout",
     "output_type": "stream",
     "text": [
      "/projectnb/mccall/sbandyadka/drpr42d_snrnaseq/reference/AFCA/cellrangerSummary/allH5_filter/Male_head_adult_30dWT_S2.h5\n",
      "AnnData object with n_obs × n_vars = 5088 × 17562\n",
      "    obs: 'filename'\n",
      "    var: 'gene_ids', 'feature_types', 'genome'\n",
      "/projectnb/mccall/sbandyadka/drpr42d_snrnaseq/reference/AFCA/cellrangerSummary/allH5_filter/Female_head_adult_30dWT_S1.h5\n",
      "AnnData object with n_obs × n_vars = 5080 × 17562\n",
      "    obs: 'filename'\n",
      "    var: 'gene_ids', 'feature_types', 'genome'\n",
      "/projectnb/mccall/sbandyadka/drpr42d_snrnaseq/reference/AFCA/cellrangerSummary/allH5_filter/Male_head_adult_30dWT_S6.h5\n",
      "AnnData object with n_obs × n_vars = 5453 × 17562\n",
      "    obs: 'filename'\n",
      "    var: 'gene_ids', 'feature_types', 'genome'\n",
      "/projectnb/mccall/sbandyadka/drpr42d_snrnaseq/reference/AFCA/cellrangerSummary/allH5_filter/Male_head_adult_50dWT_S3.h5\n",
      "AnnData object with n_obs × n_vars = 11010 × 17562\n",
      "    obs: 'filename'\n",
      "    var: 'gene_ids', 'feature_types', 'genome'\n",
      "/projectnb/mccall/sbandyadka/drpr42d_snrnaseq/reference/AFCA/cellrangerSummary/allH5_filter/Male_head_adult_70dWT_S1.h5\n",
      "AnnData object with n_obs × n_vars = 4085 × 17562\n",
      "    obs: 'filename'\n",
      "    var: 'gene_ids', 'feature_types', 'genome'\n",
      "/projectnb/mccall/sbandyadka/drpr42d_snrnaseq/reference/AFCA/cellrangerSummary/allH5_filter/Male_body_adult_70dWT_S1.h5\n",
      "AnnData object with n_obs × n_vars = 2266 × 17562\n",
      "    obs: 'filename'\n",
      "    var: 'gene_ids', 'feature_types', 'genome'\n",
      "/projectnb/mccall/sbandyadka/drpr42d_snrnaseq/reference/AFCA/cellrangerSummary/allH5_filter/Male_head_adult_50dWT_S5.h5\n",
      "AnnData object with n_obs × n_vars = 8450 × 17562\n",
      "    obs: 'filename'\n",
      "    var: 'gene_ids', 'feature_types', 'genome'\n",
      "/projectnb/mccall/sbandyadka/drpr42d_snrnaseq/reference/AFCA/cellrangerSummary/allH5_filter/Female_head_adult_50dWT_S6.h5\n",
      "AnnData object with n_obs × n_vars = 7229 × 17562\n",
      "    obs: 'filename'\n",
      "    var: 'gene_ids', 'feature_types', 'genome'\n",
      "/projectnb/mccall/sbandyadka/drpr42d_snrnaseq/reference/AFCA/cellrangerSummary/allH5_filter/Female_head_adult_50dWT_S2.h5\n",
      "AnnData object with n_obs × n_vars = 4593 × 17562\n",
      "    obs: 'filename'\n",
      "    var: 'gene_ids', 'feature_types', 'genome'\n",
      "/projectnb/mccall/sbandyadka/drpr42d_snrnaseq/reference/AFCA/cellrangerSummary/allH5_filter/Female_head_adult_50dWT_S1.h5\n",
      "AnnData object with n_obs × n_vars = 7118 × 17562\n",
      "    obs: 'filename'\n",
      "    var: 'gene_ids', 'feature_types', 'genome'\n",
      "/projectnb/mccall/sbandyadka/drpr42d_snrnaseq/reference/AFCA/cellrangerSummary/allH5_filter/Male_body_adult_30dWT_S3.h5\n",
      "AnnData object with n_obs × n_vars = 13523 × 17562\n",
      "    obs: 'filename'\n",
      "    var: 'gene_ids', 'feature_types', 'genome'\n",
      "/projectnb/mccall/sbandyadka/drpr42d_snrnaseq/reference/AFCA/cellrangerSummary/allH5_filter/Female_body_adult_30dWT_S5.h5\n",
      "AnnData object with n_obs × n_vars = 6972 × 17562\n",
      "    obs: 'filename'\n",
      "    var: 'gene_ids', 'feature_types', 'genome'\n",
      "/projectnb/mccall/sbandyadka/drpr42d_snrnaseq/reference/AFCA/cellrangerSummary/allH5_filter/Male_head_adult_70dWT_S4.h5\n",
      "AnnData object with n_obs × n_vars = 3334 × 17562\n",
      "    obs: 'filename'\n",
      "    var: 'gene_ids', 'feature_types', 'genome'\n",
      "/projectnb/mccall/sbandyadka/drpr42d_snrnaseq/reference/AFCA/cellrangerSummary/allH5_filter/Female_body_adult_50dWT_S6.h5\n",
      "AnnData object with n_obs × n_vars = 5429 × 17562\n",
      "    obs: 'filename'\n",
      "    var: 'gene_ids', 'feature_types', 'genome'\n",
      "/projectnb/mccall/sbandyadka/drpr42d_snrnaseq/reference/AFCA/cellrangerSummary/allH5_filter/Male_body_adult_50dWT_S6.h5\n",
      "AnnData object with n_obs × n_vars = 5481 × 17562\n",
      "    obs: 'filename'\n",
      "    var: 'gene_ids', 'feature_types', 'genome'\n",
      "/projectnb/mccall/sbandyadka/drpr42d_snrnaseq/reference/AFCA/cellrangerSummary/allH5_filter/Male_head_adult_30dWT_S5.h5\n",
      "AnnData object with n_obs × n_vars = 5219 × 17562\n",
      "    obs: 'filename'\n",
      "    var: 'gene_ids', 'feature_types', 'genome'\n",
      "/projectnb/mccall/sbandyadka/drpr42d_snrnaseq/reference/AFCA/cellrangerSummary/allH5_filter/Male_body_adult_70dWT_S5.h5\n",
      "AnnData object with n_obs × n_vars = 2483 × 17562\n",
      "    obs: 'filename'\n",
      "    var: 'gene_ids', 'feature_types', 'genome'\n",
      "/projectnb/mccall/sbandyadka/drpr42d_snrnaseq/reference/AFCA/cellrangerSummary/allH5_filter/Female_body_adult_30dWT_S6.h5\n",
      "AnnData object with n_obs × n_vars = 5393 × 17562\n",
      "    obs: 'filename'\n",
      "    var: 'gene_ids', 'feature_types', 'genome'\n",
      "/projectnb/mccall/sbandyadka/drpr42d_snrnaseq/reference/AFCA/cellrangerSummary/allH5_filter/Male_head_adult_30dWT_S1.h5\n",
      "AnnData object with n_obs × n_vars = 4758 × 17562\n",
      "    obs: 'filename'\n",
      "    var: 'gene_ids', 'feature_types', 'genome'\n",
      "/projectnb/mccall/sbandyadka/drpr42d_snrnaseq/reference/AFCA/cellrangerSummary/allH5_filter/Female_body_adult_50dWT_S3.h5\n",
      "AnnData object with n_obs × n_vars = 5534 × 17562\n",
      "    obs: 'filename'\n",
      "    var: 'gene_ids', 'feature_types', 'genome'\n",
      "/projectnb/mccall/sbandyadka/drpr42d_snrnaseq/reference/AFCA/cellrangerSummary/allH5_filter/Male_head_adult_50dWT_S6.h5\n",
      "AnnData object with n_obs × n_vars = 10108 × 17562\n",
      "    obs: 'filename'\n",
      "    var: 'gene_ids', 'feature_types', 'genome'\n",
      "/projectnb/mccall/sbandyadka/drpr42d_snrnaseq/reference/AFCA/cellrangerSummary/allH5_filter/Male_body_adult_50dWT_S4.h5\n",
      "AnnData object with n_obs × n_vars = 3864 × 17562\n",
      "    obs: 'filename'\n",
      "    var: 'gene_ids', 'feature_types', 'genome'\n",
      "/projectnb/mccall/sbandyadka/drpr42d_snrnaseq/reference/AFCA/cellrangerSummary/allH5_filter/Male_body_adult_70dWT_S3.h5\n",
      "AnnData object with n_obs × n_vars = 2631 × 17562\n",
      "    obs: 'filename'\n",
      "    var: 'gene_ids', 'feature_types', 'genome'\n",
      "/projectnb/mccall/sbandyadka/drpr42d_snrnaseq/reference/AFCA/cellrangerSummary/allH5_filter/Female_head_adult_30dWT_S5.h5\n",
      "AnnData object with n_obs × n_vars = 7778 × 17562\n",
      "    obs: 'filename'\n",
      "    var: 'gene_ids', 'feature_types', 'genome'\n",
      "/projectnb/mccall/sbandyadka/drpr42d_snrnaseq/reference/AFCA/cellrangerSummary/allH5_filter/Male_body_adult_50dWT_S2.h5\n",
      "AnnData object with n_obs × n_vars = 5454 × 17562\n",
      "    obs: 'filename'\n",
      "    var: 'gene_ids', 'feature_types', 'genome'\n",
      "/projectnb/mccall/sbandyadka/drpr42d_snrnaseq/reference/AFCA/cellrangerSummary/allH5_filter/Female_body_adult_70dWT_S3.h5\n",
      "AnnData object with n_obs × n_vars = 8416 × 17562\n",
      "    obs: 'filename'\n",
      "    var: 'gene_ids', 'feature_types', 'genome'\n",
      "/projectnb/mccall/sbandyadka/drpr42d_snrnaseq/reference/AFCA/cellrangerSummary/allH5_filter/Male_head_adult_70dWT_S5.h5\n",
      "AnnData object with n_obs × n_vars = 3044 × 17562\n",
      "    obs: 'filename'\n",
      "    var: 'gene_ids', 'feature_types', 'genome'\n",
      "/projectnb/mccall/sbandyadka/drpr42d_snrnaseq/reference/AFCA/cellrangerSummary/allH5_filter/Male_head_adult_70dWT_S2.h5\n",
      "AnnData object with n_obs × n_vars = 3879 × 17562\n",
      "    obs: 'filename'\n",
      "    var: 'gene_ids', 'feature_types', 'genome'\n",
      "/projectnb/mccall/sbandyadka/drpr42d_snrnaseq/reference/AFCA/cellrangerSummary/allH5_filter/Male_body_adult_30dWT_S1.h5\n",
      "AnnData object with n_obs × n_vars = 12871 × 17562\n",
      "    obs: 'filename'\n",
      "    var: 'gene_ids', 'feature_types', 'genome'\n",
      "/projectnb/mccall/sbandyadka/drpr42d_snrnaseq/reference/AFCA/cellrangerSummary/allH5_filter/Male_body_adult_30dWT_S2.h5\n",
      "AnnData object with n_obs × n_vars = 12624 × 17562\n",
      "    obs: 'filename'\n",
      "    var: 'gene_ids', 'feature_types', 'genome'\n",
      "/projectnb/mccall/sbandyadka/drpr42d_snrnaseq/reference/AFCA/cellrangerSummary/allH5_filter/Female_body_adult_50dWT_S2.h5\n",
      "AnnData object with n_obs × n_vars = 5189 × 17562\n",
      "    obs: 'filename'\n",
      "    var: 'gene_ids', 'feature_types', 'genome'\n",
      "/projectnb/mccall/sbandyadka/drpr42d_snrnaseq/reference/AFCA/cellrangerSummary/allH5_filter/Female_head_adult_70dWT_S6.h5\n",
      "AnnData object with n_obs × n_vars = 8105 × 17562\n",
      "    obs: 'filename'\n",
      "    var: 'gene_ids', 'feature_types', 'genome'\n",
      "/projectnb/mccall/sbandyadka/drpr42d_snrnaseq/reference/AFCA/cellrangerSummary/allH5_filter/Male_head_adult_30dWT_S3.h5\n",
      "AnnData object with n_obs × n_vars = 5275 × 17562\n",
      "    obs: 'filename'\n",
      "    var: 'gene_ids', 'feature_types', 'genome'\n",
      "/projectnb/mccall/sbandyadka/drpr42d_snrnaseq/reference/AFCA/cellrangerSummary/allH5_filter/Female_head_adult_50dWT_S4.h5\n",
      "AnnData object with n_obs × n_vars = 5608 × 17562\n",
      "    obs: 'filename'\n",
      "    var: 'gene_ids', 'feature_types', 'genome'\n",
      "/projectnb/mccall/sbandyadka/drpr42d_snrnaseq/reference/AFCA/cellrangerSummary/allH5_filter/Female_head_adult_30dWT_S4.h5\n",
      "AnnData object with n_obs × n_vars = 7888 × 17562\n",
      "    obs: 'filename'\n",
      "    var: 'gene_ids', 'feature_types', 'genome'\n",
      "/projectnb/mccall/sbandyadka/drpr42d_snrnaseq/reference/AFCA/cellrangerSummary/allH5_filter/Male_head_adult_50dWT_S4.h5\n",
      "AnnData object with n_obs × n_vars = 10951 × 17562\n",
      "    obs: 'filename'\n",
      "    var: 'gene_ids', 'feature_types', 'genome'\n",
      "/projectnb/mccall/sbandyadka/drpr42d_snrnaseq/reference/AFCA/cellrangerSummary/allH5_filter/Female_head_adult_70dWT_S2.h5\n",
      "AnnData object with n_obs × n_vars = 6857 × 17562\n",
      "    obs: 'filename'\n",
      "    var: 'gene_ids', 'feature_types', 'genome'\n",
      "/projectnb/mccall/sbandyadka/drpr42d_snrnaseq/reference/AFCA/cellrangerSummary/allH5_filter/Female_head_adult_70dWT_S4.h5\n",
      "AnnData object with n_obs × n_vars = 8478 × 17562\n",
      "    obs: 'filename'\n",
      "    var: 'gene_ids', 'feature_types', 'genome'\n",
      "/projectnb/mccall/sbandyadka/drpr42d_snrnaseq/reference/AFCA/cellrangerSummary/allH5_filter/Male_body_adult_30dWT_S6.h5\n",
      "AnnData object with n_obs × n_vars = 11928 × 17562\n",
      "    obs: 'filename'\n",
      "    var: 'gene_ids', 'feature_types', 'genome'\n",
      "/projectnb/mccall/sbandyadka/drpr42d_snrnaseq/reference/AFCA/cellrangerSummary/allH5_filter/Female_head_adult_70dWT_S1.h5\n",
      "AnnData object with n_obs × n_vars = 7857 × 17562\n",
      "    obs: 'filename'\n",
      "    var: 'gene_ids', 'feature_types', 'genome'\n",
      "/projectnb/mccall/sbandyadka/drpr42d_snrnaseq/reference/AFCA/cellrangerSummary/allH5_filter/Female_body_adult_30dWT_S3.h5\n",
      "AnnData object with n_obs × n_vars = 6406 × 17562\n",
      "    obs: 'filename'\n",
      "    var: 'gene_ids', 'feature_types', 'genome'\n",
      "/projectnb/mccall/sbandyadka/drpr42d_snrnaseq/reference/AFCA/cellrangerSummary/allH5_filter/Female_head_adult_50dWT_S5.h5\n",
      "AnnData object with n_obs × n_vars = 2987 × 17562\n",
      "    obs: 'filename'\n",
      "    var: 'gene_ids', 'feature_types', 'genome'\n",
      "/projectnb/mccall/sbandyadka/drpr42d_snrnaseq/reference/AFCA/cellrangerSummary/allH5_filter/Male_body_adult_50dWT_S3.h5\n",
      "AnnData object with n_obs × n_vars = 5460 × 17562\n",
      "    obs: 'filename'\n",
      "    var: 'gene_ids', 'feature_types', 'genome'\n",
      "/projectnb/mccall/sbandyadka/drpr42d_snrnaseq/reference/AFCA/cellrangerSummary/allH5_filter/Male_head_adult_70dWT_S6.h5\n",
      "AnnData object with n_obs × n_vars = 3736 × 17562\n",
      "    obs: 'filename'\n",
      "    var: 'gene_ids', 'feature_types', 'genome'\n",
      "/projectnb/mccall/sbandyadka/drpr42d_snrnaseq/reference/AFCA/cellrangerSummary/allH5_filter/Male_body_adult_50dWT_S5.h5\n",
      "AnnData object with n_obs × n_vars = 6119 × 17562\n",
      "    obs: 'filename'\n",
      "    var: 'gene_ids', 'feature_types', 'genome'\n",
      "/projectnb/mccall/sbandyadka/drpr42d_snrnaseq/reference/AFCA/cellrangerSummary/allH5_filter/Male_body_adult_70dWT_S4.h5\n",
      "AnnData object with n_obs × n_vars = 2795 × 17562\n",
      "    obs: 'filename'\n",
      "    var: 'gene_ids', 'feature_types', 'genome'\n",
      "/projectnb/mccall/sbandyadka/drpr42d_snrnaseq/reference/AFCA/cellrangerSummary/allH5_filter/Female_body_adult_50dWT_S5.h5\n",
      "AnnData object with n_obs × n_vars = 5370 × 17562\n",
      "    obs: 'filename'\n",
      "    var: 'gene_ids', 'feature_types', 'genome'\n",
      "/projectnb/mccall/sbandyadka/drpr42d_snrnaseq/reference/AFCA/cellrangerSummary/allH5_filter/Female_head_adult_30dWT_S2.h5\n",
      "AnnData object with n_obs × n_vars = 7870 × 17562\n",
      "    obs: 'filename'\n",
      "    var: 'gene_ids', 'feature_types', 'genome'\n",
      "/projectnb/mccall/sbandyadka/drpr42d_snrnaseq/reference/AFCA/cellrangerSummary/allH5_filter/Female_head_adult_30dWT_S6.h5\n",
      "AnnData object with n_obs × n_vars = 8844 × 17562\n",
      "    obs: 'filename'\n",
      "    var: 'gene_ids', 'feature_types', 'genome'\n",
      "/projectnb/mccall/sbandyadka/drpr42d_snrnaseq/reference/AFCA/cellrangerSummary/allH5_filter/Female_body_adult_70dWT_S6.h5\n",
      "AnnData object with n_obs × n_vars = 7859 × 17562\n",
      "    obs: 'filename'\n",
      "    var: 'gene_ids', 'feature_types', 'genome'\n",
      "/projectnb/mccall/sbandyadka/drpr42d_snrnaseq/reference/AFCA/cellrangerSummary/allH5_filter/Male_head_adult_50dWT_S2.h5\n",
      "AnnData object with n_obs × n_vars = 10561 × 17562\n",
      "    obs: 'filename'\n",
      "    var: 'gene_ids', 'feature_types', 'genome'\n",
      "/projectnb/mccall/sbandyadka/drpr42d_snrnaseq/reference/AFCA/cellrangerSummary/allH5_filter/Female_body_adult_70dWT_S5.h5\n",
      "AnnData object with n_obs × n_vars = 6573 × 17562\n",
      "    obs: 'filename'\n",
      "    var: 'gene_ids', 'feature_types', 'genome'\n",
      "/projectnb/mccall/sbandyadka/drpr42d_snrnaseq/reference/AFCA/cellrangerSummary/allH5_filter/Female_head_adult_30dWT_S3.h5\n",
      "AnnData object with n_obs × n_vars = 7729 × 17562\n",
      "    obs: 'filename'\n",
      "    var: 'gene_ids', 'feature_types', 'genome'\n",
      "/projectnb/mccall/sbandyadka/drpr42d_snrnaseq/reference/AFCA/cellrangerSummary/allH5_filter/Female_body_adult_70dWT_S2.h5\n",
      "AnnData object with n_obs × n_vars = 7928 × 17562\n",
      "    obs: 'filename'\n",
      "    var: 'gene_ids', 'feature_types', 'genome'\n",
      "/projectnb/mccall/sbandyadka/drpr42d_snrnaseq/reference/AFCA/cellrangerSummary/allH5_filter/Female_body_adult_50dWT_S4.h5\n",
      "AnnData object with n_obs × n_vars = 5102 × 17562\n",
      "    obs: 'filename'\n",
      "    var: 'gene_ids', 'feature_types', 'genome'\n",
      "/projectnb/mccall/sbandyadka/drpr42d_snrnaseq/reference/AFCA/cellrangerSummary/allH5_filter/Male_head_adult_70dWT_S3.h5\n",
      "AnnData object with n_obs × n_vars = 4346 × 17562\n",
      "    obs: 'filename'\n",
      "    var: 'gene_ids', 'feature_types', 'genome'\n",
      "/projectnb/mccall/sbandyadka/drpr42d_snrnaseq/reference/AFCA/cellrangerSummary/allH5_filter/Female_head_adult_70dWT_S3.h5\n",
      "AnnData object with n_obs × n_vars = 7822 × 17562\n",
      "    obs: 'filename'\n",
      "    var: 'gene_ids', 'feature_types', 'genome'\n",
      "/projectnb/mccall/sbandyadka/drpr42d_snrnaseq/reference/AFCA/cellrangerSummary/allH5_filter/Female_body_adult_50dWT_S1.h5\n",
      "AnnData object with n_obs × n_vars = 5523 × 17562\n",
      "    obs: 'filename'\n",
      "    var: 'gene_ids', 'feature_types', 'genome'\n",
      "/projectnb/mccall/sbandyadka/drpr42d_snrnaseq/reference/AFCA/cellrangerSummary/allH5_filter/Female_body_adult_30dWT_S2.h5\n",
      "AnnData object with n_obs × n_vars = 6052 × 17562\n",
      "    obs: 'filename'\n",
      "    var: 'gene_ids', 'feature_types', 'genome'\n",
      "/projectnb/mccall/sbandyadka/drpr42d_snrnaseq/reference/AFCA/cellrangerSummary/allH5_filter/Female_body_adult_30dWT_S4.h5\n",
      "AnnData object with n_obs × n_vars = 6902 × 17562\n",
      "    obs: 'filename'\n",
      "    var: 'gene_ids', 'feature_types', 'genome'\n",
      "/projectnb/mccall/sbandyadka/drpr42d_snrnaseq/reference/AFCA/cellrangerSummary/allH5_filter/Female_head_adult_50dWT_S3.h5\n",
      "AnnData object with n_obs × n_vars = 6095 × 17562\n",
      "    obs: 'filename'\n",
      "    var: 'gene_ids', 'feature_types', 'genome'\n",
      "/projectnb/mccall/sbandyadka/drpr42d_snrnaseq/reference/AFCA/cellrangerSummary/allH5_filter/Female_body_adult_70dWT_S4.h5\n",
      "AnnData object with n_obs × n_vars = 8070 × 17562\n",
      "    obs: 'filename'\n",
      "    var: 'gene_ids', 'feature_types', 'genome'\n",
      "/projectnb/mccall/sbandyadka/drpr42d_snrnaseq/reference/AFCA/cellrangerSummary/allH5_filter/Male_body_adult_70dWT_S6.h5\n",
      "AnnData object with n_obs × n_vars = 2850 × 17562\n",
      "    obs: 'filename'\n",
      "    var: 'gene_ids', 'feature_types', 'genome'\n",
      "/projectnb/mccall/sbandyadka/drpr42d_snrnaseq/reference/AFCA/cellrangerSummary/allH5_filter/Female_head_adult_70dWT_S5.h5\n",
      "AnnData object with n_obs × n_vars = 6315 × 17562\n",
      "    obs: 'filename'\n",
      "    var: 'gene_ids', 'feature_types', 'genome'\n",
      "/projectnb/mccall/sbandyadka/drpr42d_snrnaseq/reference/AFCA/cellrangerSummary/allH5_filter/Female_body_adult_30dWT_S1.h5\n",
      "AnnData object with n_obs × n_vars = 6509 × 17562\n",
      "    obs: 'filename'\n",
      "    var: 'gene_ids', 'feature_types', 'genome'\n",
      "/projectnb/mccall/sbandyadka/drpr42d_snrnaseq/reference/AFCA/cellrangerSummary/allH5_filter/Male_body_adult_30dWT_S5.h5\n",
      "AnnData object with n_obs × n_vars = 12712 × 17562\n",
      "    obs: 'filename'\n",
      "    var: 'gene_ids', 'feature_types', 'genome'\n",
      "/projectnb/mccall/sbandyadka/drpr42d_snrnaseq/reference/AFCA/cellrangerSummary/allH5_filter/Female_body_adult_70dWT_S1.h5\n",
      "AnnData object with n_obs × n_vars = 8783 × 17562\n",
      "    obs: 'filename'\n",
      "    var: 'gene_ids', 'feature_types', 'genome'\n",
      "/projectnb/mccall/sbandyadka/drpr42d_snrnaseq/reference/AFCA/cellrangerSummary/allH5_filter/Male_body_adult_50dWT_S1.h5\n",
      "AnnData object with n_obs × n_vars = 5505 × 17562\n",
      "    obs: 'filename'\n",
      "    var: 'gene_ids', 'feature_types', 'genome'\n",
      "/projectnb/mccall/sbandyadka/drpr42d_snrnaseq/reference/AFCA/cellrangerSummary/allH5_filter/Male_head_adult_30dWT_S4.h5\n",
      "AnnData object with n_obs × n_vars = 4740 × 17562\n",
      "    obs: 'filename'\n",
      "    var: 'gene_ids', 'feature_types', 'genome'\n",
      "/projectnb/mccall/sbandyadka/drpr42d_snrnaseq/reference/AFCA/cellrangerSummary/allH5_filter/Male_body_adult_30dWT_S4.h5\n",
      "AnnData object with n_obs × n_vars = 12203 × 17562\n",
      "    obs: 'filename'\n",
      "    var: 'gene_ids', 'feature_types', 'genome'\n",
      "/projectnb/mccall/sbandyadka/drpr42d_snrnaseq/reference/AFCA/cellrangerSummary/allH5_filter/Male_body_adult_70dWT_S2.h5\n",
      "AnnData object with n_obs × n_vars = 2405 × 17562\n",
      "    obs: 'filename'\n",
      "    var: 'gene_ids', 'feature_types', 'genome'\n",
      "/projectnb/mccall/sbandyadka/drpr42d_snrnaseq/reference/AFCA/cellrangerSummary/allH5_filter/Male_head_adult_50dWT_S1.h5\n",
      "AnnData object with n_obs × n_vars = 10138 × 17562\n",
      "    obs: 'filename'\n",
      "    var: 'gene_ids', 'feature_types', 'genome'\n"
     ]
    }
   ],
   "source": [
    "## Create a combined anndata object of raw h5 files\n",
    "adatas = []\n",
    "for h5f in h5files:\n",
    "    print(h5f)\n",
    "    filename = h5f.split(\"/\")[-1].split(\".h5\")[0]\n",
    "    adata = sc.read_10x_h5(h5f)\n",
    "    adata.var_names_make_unique()\n",
    "    adata.obs['filename'] = filename\n",
    "    print(adata)\n",
    "    adatas.append(adata)\n",
    "    #break"
   ]
  },
  {
   "cell_type": "code",
   "execution_count": 120,
   "metadata": {},
   "outputs": [
    {
     "data": {
      "text/plain": [
       "72"
      ]
     },
     "execution_count": 120,
     "metadata": {},
     "output_type": "execute_result"
    }
   ],
   "source": [
    "len(adatas)"
   ]
  },
  {
   "cell_type": "code",
   "execution_count": 121,
   "metadata": {},
   "outputs": [
    {
     "name": "stderr",
     "output_type": "stream",
     "text": [
      "/projectnb/mccall/sbandya/.conda/envs/drpr_snrnaseq_gpu/lib/python3.12/site-packages/anndata/_core/anndata.py:1818: UserWarning: Observation names are not unique. To make them unique, call `.obs_names_make_unique`.\n",
      "  utils.warn_names_duplicates(\"obs\")\n"
     ]
    },
    {
     "data": {
      "text/plain": [
       "AnnData object with n_obs × n_vars = 479612 × 17562\n",
       "    obs: 'filename'"
      ]
     },
     "execution_count": 121,
     "metadata": {},
     "output_type": "execute_result"
    }
   ],
   "source": [
    "afca_combined = sc.concat(adatas,join=\"outer\")\n",
    "afca_combined"
   ]
  },
  {
   "cell_type": "code",
   "execution_count": 122,
   "metadata": {},
   "outputs": [
    {
     "data": {
      "text/html": [
       "<div>\n",
       "<style scoped>\n",
       "    .dataframe tbody tr th:only-of-type {\n",
       "        vertical-align: middle;\n",
       "    }\n",
       "\n",
       "    .dataframe tbody tr th {\n",
       "        vertical-align: top;\n",
       "    }\n",
       "\n",
       "    .dataframe thead th {\n",
       "        text-align: right;\n",
       "    }\n",
       "</style>\n",
       "<table border=\"1\" class=\"dataframe\">\n",
       "  <thead>\n",
       "    <tr style=\"text-align: right;\">\n",
       "      <th></th>\n",
       "      <th>filename</th>\n",
       "      <th>sex</th>\n",
       "      <th>sample</th>\n",
       "      <th>day</th>\n",
       "      <th>oldindex</th>\n",
       "      <th>newindex</th>\n",
       "    </tr>\n",
       "  </thead>\n",
       "  <tbody>\n",
       "    <tr>\n",
       "      <th>AAACCCACAACGGCTC-1</th>\n",
       "      <td>Male_head_adult_30dWT_S2</td>\n",
       "      <td>Male_head_</td>\n",
       "      <td>_S2</td>\n",
       "      <td>30</td>\n",
       "      <td>AAACCCACAACGGCTC-1</td>\n",
       "      <td>aaacccacaacggctc-1_afca_male_head_30_s2</td>\n",
       "    </tr>\n",
       "    <tr>\n",
       "      <th>AAACCCACACTGCGAC-1</th>\n",
       "      <td>Male_head_adult_30dWT_S2</td>\n",
       "      <td>Male_head_</td>\n",
       "      <td>_S2</td>\n",
       "      <td>30</td>\n",
       "      <td>AAACCCACACTGCGAC-1</td>\n",
       "      <td>aaacccacactgcgac-1_afca_male_head_30_s2</td>\n",
       "    </tr>\n",
       "    <tr>\n",
       "      <th>AAACCCAGTGACACAG-1</th>\n",
       "      <td>Male_head_adult_30dWT_S2</td>\n",
       "      <td>Male_head_</td>\n",
       "      <td>_S2</td>\n",
       "      <td>30</td>\n",
       "      <td>AAACCCAGTGACACAG-1</td>\n",
       "      <td>aaacccagtgacacag-1_afca_male_head_30_s2</td>\n",
       "    </tr>\n",
       "    <tr>\n",
       "      <th>AAACCCAGTGCATACT-1</th>\n",
       "      <td>Male_head_adult_30dWT_S2</td>\n",
       "      <td>Male_head_</td>\n",
       "      <td>_S2</td>\n",
       "      <td>30</td>\n",
       "      <td>AAACCCAGTGCATACT-1</td>\n",
       "      <td>aaacccagtgcatact-1_afca_male_head_30_s2</td>\n",
       "    </tr>\n",
       "    <tr>\n",
       "      <th>AAACGAAAGCAGGTCA-1</th>\n",
       "      <td>Male_head_adult_30dWT_S2</td>\n",
       "      <td>Male_head_</td>\n",
       "      <td>_S2</td>\n",
       "      <td>30</td>\n",
       "      <td>AAACGAAAGCAGGTCA-1</td>\n",
       "      <td>aaacgaaagcaggtca-1_afca_male_head_30_s2</td>\n",
       "    </tr>\n",
       "    <tr>\n",
       "      <th>...</th>\n",
       "      <td>...</td>\n",
       "      <td>...</td>\n",
       "      <td>...</td>\n",
       "      <td>...</td>\n",
       "      <td>...</td>\n",
       "      <td>...</td>\n",
       "    </tr>\n",
       "    <tr>\n",
       "      <th>TTTGTTGGTGGCATCC-1</th>\n",
       "      <td>Male_head_adult_50dWT_S1</td>\n",
       "      <td>Male_head_</td>\n",
       "      <td>_S1</td>\n",
       "      <td>50</td>\n",
       "      <td>TTTGTTGGTGGCATCC-1</td>\n",
       "      <td>tttgttggtggcatcc-1_afca_male_head_50_s1</td>\n",
       "    </tr>\n",
       "    <tr>\n",
       "      <th>TTTGTTGGTGTAACGG-1</th>\n",
       "      <td>Male_head_adult_50dWT_S1</td>\n",
       "      <td>Male_head_</td>\n",
       "      <td>_S1</td>\n",
       "      <td>50</td>\n",
       "      <td>TTTGTTGGTGTAACGG-1</td>\n",
       "      <td>tttgttggtgtaacgg-1_afca_male_head_50_s1</td>\n",
       "    </tr>\n",
       "    <tr>\n",
       "      <th>TTTGTTGGTTTGTTCT-1</th>\n",
       "      <td>Male_head_adult_50dWT_S1</td>\n",
       "      <td>Male_head_</td>\n",
       "      <td>_S1</td>\n",
       "      <td>50</td>\n",
       "      <td>TTTGTTGGTTTGTTCT-1</td>\n",
       "      <td>tttgttggtttgttct-1_afca_male_head_50_s1</td>\n",
       "    </tr>\n",
       "    <tr>\n",
       "      <th>TTTGTTGTCCACTGAA-1</th>\n",
       "      <td>Male_head_adult_50dWT_S1</td>\n",
       "      <td>Male_head_</td>\n",
       "      <td>_S1</td>\n",
       "      <td>50</td>\n",
       "      <td>TTTGTTGTCCACTGAA-1</td>\n",
       "      <td>tttgttgtccactgaa-1_afca_male_head_50_s1</td>\n",
       "    </tr>\n",
       "    <tr>\n",
       "      <th>TTTGTTGTCTGTAAGC-1</th>\n",
       "      <td>Male_head_adult_50dWT_S1</td>\n",
       "      <td>Male_head_</td>\n",
       "      <td>_S1</td>\n",
       "      <td>50</td>\n",
       "      <td>TTTGTTGTCTGTAAGC-1</td>\n",
       "      <td>tttgttgtctgtaagc-1_afca_male_head_50_s1</td>\n",
       "    </tr>\n",
       "  </tbody>\n",
       "</table>\n",
       "<p>479612 rows × 6 columns</p>\n",
       "</div>"
      ],
      "text/plain": [
       "                                    filename         sex sample day  \\\n",
       "AAACCCACAACGGCTC-1  Male_head_adult_30dWT_S2  Male_head_    _S2  30   \n",
       "AAACCCACACTGCGAC-1  Male_head_adult_30dWT_S2  Male_head_    _S2  30   \n",
       "AAACCCAGTGACACAG-1  Male_head_adult_30dWT_S2  Male_head_    _S2  30   \n",
       "AAACCCAGTGCATACT-1  Male_head_adult_30dWT_S2  Male_head_    _S2  30   \n",
       "AAACGAAAGCAGGTCA-1  Male_head_adult_30dWT_S2  Male_head_    _S2  30   \n",
       "...                                      ...         ...    ...  ..   \n",
       "TTTGTTGGTGGCATCC-1  Male_head_adult_50dWT_S1  Male_head_    _S1  50   \n",
       "TTTGTTGGTGTAACGG-1  Male_head_adult_50dWT_S1  Male_head_    _S1  50   \n",
       "TTTGTTGGTTTGTTCT-1  Male_head_adult_50dWT_S1  Male_head_    _S1  50   \n",
       "TTTGTTGTCCACTGAA-1  Male_head_adult_50dWT_S1  Male_head_    _S1  50   \n",
       "TTTGTTGTCTGTAAGC-1  Male_head_adult_50dWT_S1  Male_head_    _S1  50   \n",
       "\n",
       "                              oldindex  \\\n",
       "AAACCCACAACGGCTC-1  AAACCCACAACGGCTC-1   \n",
       "AAACCCACACTGCGAC-1  AAACCCACACTGCGAC-1   \n",
       "AAACCCAGTGACACAG-1  AAACCCAGTGACACAG-1   \n",
       "AAACCCAGTGCATACT-1  AAACCCAGTGCATACT-1   \n",
       "AAACGAAAGCAGGTCA-1  AAACGAAAGCAGGTCA-1   \n",
       "...                                ...   \n",
       "TTTGTTGGTGGCATCC-1  TTTGTTGGTGGCATCC-1   \n",
       "TTTGTTGGTGTAACGG-1  TTTGTTGGTGTAACGG-1   \n",
       "TTTGTTGGTTTGTTCT-1  TTTGTTGGTTTGTTCT-1   \n",
       "TTTGTTGTCCACTGAA-1  TTTGTTGTCCACTGAA-1   \n",
       "TTTGTTGTCTGTAAGC-1  TTTGTTGTCTGTAAGC-1   \n",
       "\n",
       "                                                   newindex  \n",
       "AAACCCACAACGGCTC-1  aaacccacaacggctc-1_afca_male_head_30_s2  \n",
       "AAACCCACACTGCGAC-1  aaacccacactgcgac-1_afca_male_head_30_s2  \n",
       "AAACCCAGTGACACAG-1  aaacccagtgacacag-1_afca_male_head_30_s2  \n",
       "AAACCCAGTGCATACT-1  aaacccagtgcatact-1_afca_male_head_30_s2  \n",
       "AAACGAAAGCAGGTCA-1  aaacgaaagcaggtca-1_afca_male_head_30_s2  \n",
       "...                                                     ...  \n",
       "TTTGTTGGTGGCATCC-1  tttgttggtggcatcc-1_afca_male_head_50_s1  \n",
       "TTTGTTGGTGTAACGG-1  tttgttggtgtaacgg-1_afca_male_head_50_s1  \n",
       "TTTGTTGGTTTGTTCT-1  tttgttggtttgttct-1_afca_male_head_50_s1  \n",
       "TTTGTTGTCCACTGAA-1  tttgttgtccactgaa-1_afca_male_head_50_s1  \n",
       "TTTGTTGTCTGTAAGC-1  tttgttgtctgtaagc-1_afca_male_head_50_s1  \n",
       "\n",
       "[479612 rows x 6 columns]"
      ]
     },
     "execution_count": 122,
     "metadata": {},
     "output_type": "execute_result"
    }
   ],
   "source": [
    "afca_combined.obs[['sex','sample']] = afca_combined.obs['filename'].str.split(\"dWT\",expand=True)\n",
    "afca_combined.obs[['sex','day']] = afca_combined.obs['sex'].str.split(\"adult_\",expand=True)\n",
    "afca_combined.obs['oldindex'] = afca_combined.obs.index\n",
    "afca_combined.obs['newindex'] = afca_combined.obs['oldindex'] + \"_AFCA_\" +  afca_combined.obs['sex'] + afca_combined.obs['day'] + afca_combined.obs['sample']\n",
    "afca_combined.obs['newindex'] = afca_combined.obs['newindex'].str.lower()\n",
    "afca_combined.obs\n"
   ]
  },
  {
   "cell_type": "code",
   "execution_count": 123,
   "metadata": {},
   "outputs": [
    {
     "data": {
      "text/plain": [
       "View of AnnData object with n_obs × n_vars = 189670 × 15992\n",
       "    obs: 'tissue', 'sex', 'age', 'sex_age', 'n_genes_by_counts', 'total_counts', 'total_counts_mt', 'pct_counts_mt', 'log1p_n_genes_by_counts', 'log1p_total_counts', 'log1p_total_counts_mt', 'dataset', 'fca_annotation', 'afca_annotation', 'afca_annotation_broad'\n",
       "    uns: 'afca_annotation_colors'\n",
       "    obsm: 'X_pca', 'X_tsne', 'X_umap'"
      ]
     },
     "execution_count": 123,
     "metadata": {},
     "output_type": "execute_result"
    }
   ],
   "source": [
    "## read annotated adata file from FCA data portal and subset to AFCA nuclei\n",
    "referencepath = \"/projectnb/mccall/sbandyadka/drpr42d_snrnaseq/reference/AFCA/\"\n",
    "annotated_h5 = sc.read_h5ad(referencepath+\"adata_head_S_v1.0.h5ad\")\n",
    "#annotated_h5 = sc.read_h5ad(referencepath+\"GSE218661_adata_head_S_v1.0.h5ad\")\n",
    "annotated_h5 = annotated_h5[annotated_h5.obs.dataset==\"AFCA\"]\n",
    "annotated_h5"
   ]
  },
  {
   "cell_type": "code",
   "execution_count": 124,
   "metadata": {},
   "outputs": [],
   "source": [
    "annotated_h5.raw = annotated_h5 # Save normalized counts in raw "
   ]
  },
  {
   "cell_type": "code",
   "execution_count": 125,
   "metadata": {},
   "outputs": [],
   "source": [
    "#annotated_h5.obs['nuclei_filename'] =annotated_h5.obs.index\n",
    "#annotated_h5.obs[['nuclei','file']] = annotated_h5.obs[\"nuclei_filename\"].str.split(\"_AFCA_\",expand=True)\n",
    "#annotated_h5.obs.index = annotated_h5.obs.nuclei\n",
    "annotated_h5.obs['oldindex'] = annotated_h5.obs.index\n",
    "annotated_h5.obs['newindex'] = annotated_h5.obs['oldindex'].str.lower()\n",
    "annotated_h5.obs.index = annotated_h5.obs['newindex']"
   ]
  },
  {
   "cell_type": "code",
   "execution_count": 126,
   "metadata": {},
   "outputs": [
    {
     "name": "stdout",
     "output_type": "stream",
     "text": [
      "aaacccacagtgagca-1_afca_female_head_30_s1\n",
      "aaacccacaacggctc-1_afca_male_head_30_s2\n"
     ]
    }
   ],
   "source": [
    "print(annotated_h5.obs['newindex'].tolist()[0])\n",
    "print(afca_combined.obs['newindex'].tolist()[0])"
   ]
  },
  {
   "cell_type": "code",
   "execution_count": 127,
   "metadata": {},
   "outputs": [
    {
     "name": "stdout",
     "output_type": "stream",
     "text": [
      "189670\n",
      "15992\n"
     ]
    }
   ],
   "source": [
    "## Get nuclei common to both adata objects\n",
    "common_cells = list(set(annotated_h5.obs['newindex'].tolist()).intersection(set(afca_combined.obs['newindex'].tolist())))\n",
    "print(len(common_cells)) ## 189670 - same as total cells in annotated_h5\n",
    "\n",
    "common_genes = list(set(annotated_h5.var_names).intersection(set(afca_combined.var_names)))\n",
    "print(len(common_genes))"
   ]
  },
  {
   "cell_type": "code",
   "execution_count": 128,
   "metadata": {},
   "outputs": [
    {
     "name": "stdout",
     "output_type": "stream",
     "text": [
      "[]\n"
     ]
    }
   ],
   "source": [
    "## check if there are duplicate indexes\n",
    "import collections\n",
    "print([item for item, count in collections.Counter(common_cells).items() if count > 1])"
   ]
  },
  {
   "cell_type": "code",
   "execution_count": 129,
   "metadata": {},
   "outputs": [
    {
     "data": {
      "text/plain": [
       "View of AnnData object with n_obs × n_vars = 189670 × 15992\n",
       "    obs: 'filename', 'sex', 'sample', 'day', 'oldindex', 'newindex'"
      ]
     },
     "execution_count": 129,
     "metadata": {},
     "output_type": "execute_result"
    }
   ],
   "source": [
    "## Subset raw counts adata for cells and genes present in annotated adata\n",
    "afca_combined.obs.index = afca_combined.obs['newindex']\n",
    "afca_combined_subset = afca_combined[afca_combined.obs['newindex'].isin(common_cells)]\n",
    "afca_combined_subset = afca_combined_subset[:,common_genes]\n",
    "afca_combined_subset"
   ]
  },
  {
   "cell_type": "code",
   "execution_count": 130,
   "metadata": {},
   "outputs": [],
   "source": [
    "## Save raw counts from 10x adata as a layer in the annotated adata\n",
    "annotated_h5.layers['counts'] = afca_combined_subset.X.copy()"
   ]
  },
  {
   "cell_type": "code",
   "execution_count": 131,
   "metadata": {},
   "outputs": [
    {
     "data": {
      "text/plain": [
       "AnnData object with n_obs × n_vars = 189670 × 15992\n",
       "    obs: 'tissue', 'sex', 'age', 'sex_age', 'n_genes_by_counts', 'total_counts', 'total_counts_mt', 'pct_counts_mt', 'log1p_n_genes_by_counts', 'log1p_total_counts', 'log1p_total_counts_mt', 'dataset', 'fca_annotation', 'afca_annotation', 'afca_annotation_broad', 'oldindex', 'newindex'\n",
       "    uns: 'afca_annotation_colors'\n",
       "    obsm: 'X_pca', 'X_tsne', 'X_umap'\n",
       "    layers: 'counts'"
      ]
     },
     "execution_count": 131,
     "metadata": {},
     "output_type": "execute_result"
    }
   ],
   "source": [
    "annotated_h5"
   ]
  },
  {
   "cell_type": "code",
   "execution_count": 132,
   "metadata": {},
   "outputs": [
    {
     "name": "stdout",
     "output_type": "stream",
     "text": [
      "0.0 2227.0\n"
     ]
    }
   ],
   "source": [
    "annotated_h5.X = annotated_h5.layers['counts'].copy()\n",
    "print(annotated_h5.X.min(),annotated_h5.X.max())"
   ]
  },
  {
   "cell_type": "code",
   "execution_count": 136,
   "metadata": {},
   "outputs": [],
   "source": [
    "annotated_h5.write(\"/projectnb/mccall/sbandyadka/drpr42d_snrnaseq/reference/AFCA/afca_head_raw_v1.0.h5ad\")"
   ]
  }
 ],
 "metadata": {
  "kernelspec": {
   "display_name": "drpr_snrnaseq_gpu",
   "language": "python",
   "name": "python3"
  },
  "language_info": {
   "codemirror_mode": {
    "name": "ipython",
    "version": 3
   },
   "file_extension": ".py",
   "mimetype": "text/x-python",
   "name": "python",
   "nbconvert_exporter": "python",
   "pygments_lexer": "ipython3",
   "version": "3.12.2"
  },
  "orig_nbformat": 4
 },
 "nbformat": 4,
 "nbformat_minor": 2
}
