{
 "cells": [
  {
   "attachments": {},
   "cell_type": "markdown",
   "id": "3be72c77",
   "metadata": {},
   "source": [
    "# Annotate w1118_42D cells with cell type labels"
   ]
  },
  {
   "cell_type": "code",
   "execution_count": null,
   "id": "88f62669",
   "metadata": {},
   "outputs": [],
   "source": [
    "!python --version"
   ]
  },
  {
   "attachments": {},
   "cell_type": "markdown",
   "id": "09a66117",
   "metadata": {},
   "source": [
    "## Load required packages "
   ]
  },
  {
   "cell_type": "code",
   "execution_count": null,
   "id": "3a3c968a",
   "metadata": {},
   "outputs": [],
   "source": [
    "import numpy as np\n",
    "import pandas as pd\n",
    "import anndata as ad\n",
    "import scanpy as sc\n",
    "import torch\n",
    "import scvi\n",
    "import scarches as sca\n",
    "from scarches.dataset.trvae.data_handling import remove_sparsity\n",
    "from scipy.sparse import csr_matrix\n",
    "from scipy.stats import median_abs_deviation\n",
    "import seaborn as sns\n",
    "from pathlib import Path\n",
    "import matplotlib.pyplot as plt\n",
    "import gdown\n",
    "import copy as cp\n",
    "import os\n"
   ]
  },
  {
   "cell_type": "code",
   "execution_count": null,
   "id": "06e0ae18",
   "metadata": {},
   "outputs": [],
   "source": [
    "print(os.getenv(\"CUDA_VISIBLE_DEVICES\"))\n",
    "os.environ[\"CUDA_VISIBLE_DEVICES\"]=os.getenv(\"CUDA_VISIBLE_DEVICES\")"
   ]
  },
  {
   "cell_type": "code",
   "execution_count": null,
   "id": "88b76cd9",
   "metadata": {},
   "outputs": [],
   "source": [
    "print(torch.cuda.is_available())\n",
    "print(torch.cuda.device_count())\n",
    "print(torch.cuda.current_device())\n",
    "print(torch.cuda.device(0))\n",
    "print(torch.cuda.get_device_name(0))"
   ]
  },
  {
   "cell_type": "code",
   "execution_count": null,
   "id": "af826929",
   "metadata": {},
   "outputs": [],
   "source": [
    "sns.set_style('white')\n",
    "sns.set(font_scale=1.5)\n",
    "sc.settings.set_figure_params(dpi=80, facecolor=\"white\")\n",
    "sc.logging.print_header()\n",
    "sc.settings.verbosity = 3"
   ]
  },
  {
   "attachments": {},
   "cell_type": "markdown",
   "id": "d8999f8e",
   "metadata": {},
   "source": [
    "## Read w1118_42d query dataset"
   ]
  },
  {
   "cell_type": "code",
   "execution_count": null,
   "id": "d827123a",
   "metadata": {},
   "outputs": [],
   "source": [
    "\n",
    "## Set up I/O directories\n",
    "basepath = Path(\"/projectnb/mccall/sbandyadka/drpr42d_snrnaseq/\")\n",
    "inputpath = basepath.joinpath('analysis','preprocess')\n",
    "referencepath = basepath.joinpath('reference','FCA')\n",
    "outputpath = basepath.joinpath('analysis','scarches')\n"
   ]
  },
  {
   "cell_type": "code",
   "execution_count": null,
   "id": "376f59b8",
   "metadata": {},
   "outputs": [],
   "source": [
    "## Read sctk-qc h5ad \n",
    "w1118_42d = sc.read_h5ad(inputpath.joinpath(\"w1118_42d_slim.h5ad\"))\n",
    "w1118_42d.raw = w1118_42d\n",
    "\n",
    "w1118_42d"
   ]
  },
  {
   "cell_type": "code",
   "execution_count": null,
   "id": "9cd90e8a",
   "metadata": {},
   "outputs": [],
   "source": [
    "w1118_42d.obs['age'] = 42\n",
    "w1118_42d.obs['fly_genetics'] = \"w1118\"\n",
    "w1118_42d.obs['sex'] = \"mixed\"\n",
    "w1118_42d.obs['dissection_lab'] = \"mccall\"\n",
    "w1118_42d.obs['tissue'] = \"head\"\n"
   ]
  },
  {
   "cell_type": "code",
   "execution_count": null,
   "id": "a730c871",
   "metadata": {},
   "outputs": [],
   "source": [
    "head_model = \"/projectnb/mccall/sbandyadka/drpr42d_snrnaseq/analysis/scarches/head_model/\"\n",
    "reference_latent_head = sc.read_h5ad(head_model+'reference_latent.h5ad')\n",
    "\n",
    "\n",
    "antenna_model = \"/projectnb/mccall/sbandyadka/drpr42d_snrnaseq/analysis/scarches/antenna_model/\"\n",
    "reference_latent_antenna = sc.read_h5ad(antenna_model+'reference_latent.h5ad')"
   ]
  },
  {
   "cell_type": "code",
   "execution_count": null,
   "id": "9e3ea0a3",
   "metadata": {},
   "outputs": [],
   "source": [
    "reference_latent_head.obs['broad_annotation_batch'] = np.char.add(np.char.add(np.array(reference_latent_head.obs['broad_annotation'], dtype= str), '-'),\n",
    "                                             np.array(reference_latent_head.obs['batch'], dtype=str))\n",
    "reference_latent_head.obs['annotation_batch'] = np.char.add(np.char.add(np.array(reference_latent_head.obs['annotation'], dtype= str), '-'),\n",
    "                                             np.array(reference_latent_head.obs['batch'], dtype=str))\n",
    "\n",
    "reference_latent_antenna.obs['broad_annotation_batch'] = np.char.add(np.char.add(np.array(reference_latent_antenna.obs['broad_annotation'], dtype= str), '-'),\n",
    "                                             np.array(reference_latent_antenna.obs['batch'], dtype=str))\n",
    "reference_latent_antenna.obs['annotation_batch'] = np.char.add(np.char.add(np.array(reference_latent_antenna.obs['annotation'], dtype= str), '-'),\n",
    "                                             np.array(reference_latent_antenna.obs['batch'], dtype=str))"
   ]
  },
  {
   "cell_type": "code",
   "execution_count": null,
   "id": "5e88f9a5",
   "metadata": {},
   "outputs": [],
   "source": [
    "head_batchorder = reference_latent_head.obs.batch.unique().tolist()\n",
    "head_tree_ref_broadannotation, head_mp_ref_broadannotation = sca.classifiers.scHPL.learn_tree(data = reference_latent_head,\n",
    "                batch_key = 'batch',\n",
    "                batch_order = head_batchorder ,\n",
    "                cell_type_key='broad_annotation_batch',\n",
    "                classifier = 'knn', dynamic_neighbors=True,\n",
    "                dimred = False, print_conf= False)"
   ]
  },
  {
   "attachments": {},
   "cell_type": "markdown",
   "id": "8815a8a4",
   "metadata": {},
   "source": [
    "# Archive"
   ]
  },
  {
   "cell_type": "code",
   "execution_count": null,
   "id": "ffe19d25",
   "metadata": {},
   "outputs": [],
   "source": [
    "common_genes = list(set(w1118_42d.var_names) & set(fca_reference.var_names))\n",
    "len(common_genes)\n",
    "\n",
    "fca_reference = fca_reference[:,common_genes ]\n",
    "fca_reference = fca_reference.copy()\n",
    "fca_reference"
   ]
  },
  {
   "cell_type": "code",
   "execution_count": null,
   "id": "361f8867",
   "metadata": {},
   "outputs": [],
   "source": [
    "reference_latent.obs['broad_annotation_batch'] = np.char.add(np.char.add(np.array(reference_latent.obs['broad_annotation'], dtype= str), '-'),\n",
    "                                             np.array(reference_latent.obs['batch'], dtype=str))\n",
    "reference_latent.obs['annotation_batch'] = np.char.add(np.char.add(np.array(reference_latent.obs['annotation'], dtype= str), '-'),\n",
    "                                             np.array(reference_latent.obs['batch'], dtype=str))"
   ]
  },
  {
   "cell_type": "code",
   "execution_count": null,
   "id": "b930538c",
   "metadata": {},
   "outputs": [],
   "source": [
    "batchorder = reference_latent.obs.batch.unique().tolist()\n",
    "tree_ref_broadannotation, mp_ref_broadannotation = sca.classifiers.scHPL.learn_tree(data = reference_latent,\n",
    "                batch_key = 'batch',\n",
    "                batch_order = batchorder ,\n",
    "                cell_type_key='broad_annotation_batch',\n",
    "                classifier = 'knn', dynamic_neighbors=True,\n",
    "                dimred = False, print_conf= False)"
   ]
  },
  {
   "cell_type": "code",
   "execution_count": null,
   "metadata": {},
   "outputs": [],
   "source": [
    "tree_ref_fullannotation, mp_ref_fullannotation = sca.classifiers.scHPL.learn_tree(data = reference_latent,\n",
    "                batch_key = 'batch',\n",
    "                batch_order = batchorder ,\n",
    "                cell_type_key='annotation_batch',\n",
    "                classifier = 'knn', dynamic_neighbors=True,\n",
    "                dimred = False, print_conf= False)"
   ]
  },
  {
   "cell_type": "code",
   "execution_count": null,
   "id": "80106b47",
   "metadata": {},
   "outputs": [],
   "source": [
    "commongenes = list(set(w1118_42d.var_names)& set(fca_reference.var_names))\n",
    "print(len(commongenes))\n",
    "w1118_42d = w1118_42d[:, fca_reference.var_names]\n",
    "w1118_42d"
   ]
  },
  {
   "cell_type": "code",
   "execution_count": null,
   "id": "52740cfc",
   "metadata": {},
   "outputs": [],
   "source": [
    "w1118_42d = w1118_42d.copy()"
   ]
  },
  {
   "cell_type": "code",
   "execution_count": null,
   "id": "32f12a2e",
   "metadata": {},
   "outputs": [],
   "source": [
    "w1118_42d.obs['batch'] = \"McCall_w1118_42d_batch1\" ## all cells in the same batch"
   ]
  },
  {
   "cell_type": "code",
   "execution_count": null,
   "id": "6ca122ab",
   "metadata": {},
   "outputs": [],
   "source": [
    "w1118_42d.obs[:5]"
   ]
  },
  {
   "cell_type": "code",
   "execution_count": null,
   "id": "651c8aa0",
   "metadata": {},
   "outputs": [],
   "source": [
    "\n",
    "ref_path = \"/projectnb/mccall/sbandyadka/drpr42d_snrnaseq/analysis/scarches/\"\n",
    "model = sca.models.SCVI.load_query_data(\n",
    "    w1118_42d,\n",
    "    ref_path ,\n",
    "    freeze_dropout = True,\n",
    ")"
   ]
  },
  {
   "cell_type": "code",
   "execution_count": null,
   "id": "25a948fa",
   "metadata": {},
   "outputs": [],
   "source": [
    "model.train(max_epochs=50)"
   ]
  },
  {
   "cell_type": "code",
   "execution_count": null,
   "id": "1cb45f95",
   "metadata": {},
   "outputs": [],
   "source": [
    "query_latent = sc.AnnData(model.get_latent_representation())\n",
    "#query_latent.obs['cell_type'] = target_adata.obs[\"final_annotation\"].tolist()\n",
    "query_latent.obs['batch'] = w1118_42d.obs[\"batch\"].tolist()"
   ]
  },
  {
   "cell_type": "code",
   "execution_count": null,
   "id": "52560103",
   "metadata": {},
   "outputs": [],
   "source": [
    "model.save(outputpath, overwrite=True)\n",
    "query_latent.write('query_latent.h5ad')"
   ]
  },
  {
   "cell_type": "code",
   "execution_count": null,
   "id": "0199eb65",
   "metadata": {},
   "outputs": [],
   "source": [
    "adata_full = fca_reference.concatenate(w1118_42d, batch_key=\"ref_query\")\n",
    "adata_full"
   ]
  },
  {
   "cell_type": "code",
   "execution_count": null,
   "id": "8ae9fb25",
   "metadata": {},
   "outputs": [],
   "source": [
    "full_latent = sc.AnnData(model.get_latent_representation(adata=adata_full))\n",
    "full_latent.obs['annotation'] = adata_full.obs[\"annotation\"].tolist()\n",
    "full_latent.obs[\"broad_annotation\"] = adata_full.obs[\"broad_annotation\"].tolist()\n",
    "full_latent.obs[\"broad_annotation_extrapolated\"] = adata_full.obs[\"broad_annotation_extrapolated\"].tolist()\n",
    "full_latent.obs['batch'] = adata_full.obs[\"batch\"].tolist()"
   ]
  },
  {
   "cell_type": "code",
   "execution_count": null,
   "id": "53fc7b9b",
   "metadata": {},
   "outputs": [],
   "source": [
    "sc.pp.neighbors(full_latent)\n",
    "sc.tl.leiden(full_latent)\n",
    "sc.tl.umap(full_latent)"
   ]
  },
  {
   "cell_type": "code",
   "execution_count": null,
   "id": "95e101d6",
   "metadata": {},
   "outputs": [],
   "source": [
    "full_latent"
   ]
  },
  {
   "cell_type": "code",
   "execution_count": null,
   "id": "0d5e0755",
   "metadata": {},
   "outputs": [],
   "source": [
    "sc.pl.umap(full_latent,\n",
    "           color=['broad_annotation'],\n",
    "           frameon=False,\n",
    "           wspace=0.6, s=25,\n",
    "           #palette=sns.color_palette('colorblind', as_cmap=True)[:5],\n",
    "           #save='study_query.pdf'\n",
    "           )"
   ]
  },
  {
   "cell_type": "code",
   "execution_count": null,
   "id": "927f6eb1",
   "metadata": {},
   "outputs": [],
   "source": [
    "query_pred_fullannotation = sca.classifiers.scHPL.predict_labels(query_latent.X, tree=tree_ref_fullannotation)\n",
    "query_pred_braodannotation = sca.classifiers.scHPL.predict_labels(query_latent.X, tree=tree_ref_broadannotation)"
   ]
  },
  {
   "cell_type": "code",
   "execution_count": null,
   "id": "17deefa1",
   "metadata": {},
   "outputs": [],
   "source": [
    "w1118_42d.obs['predicted_fullannotation'] = query_pred_fullannotation[0]\n",
    "w1118_42d.obs['predicted_broadannotation'] = query_pred_braodannotation[0]"
   ]
  },
  {
   "cell_type": "code",
   "execution_count": null,
   "id": "f23affda",
   "metadata": {},
   "outputs": [],
   "source": [
    "sc.pp.neighbors(w1118_42d)\n",
    "sc.tl.leiden(w1118_42d)\n",
    "sc.tl.umap(w1118_42d)\n"
   ]
  },
  {
   "cell_type": "code",
   "execution_count": null,
   "id": "8b8402ba",
   "metadata": {},
   "outputs": [],
   "source": [
    "sc.pl.umap(w1118_42d,color=['predicted_broadannotation'])"
   ]
  },
  {
   "cell_type": "code",
   "execution_count": null,
   "id": "ef586ad8",
   "metadata": {},
   "outputs": [],
   "source": [
    "sc.pl.umap(w1118_42d,color=['predicted_fullannotation'])"
   ]
  },
  {
   "cell_type": "code",
   "execution_count": null,
   "id": "01fd64b3",
   "metadata": {},
   "outputs": [],
   "source": [
    "markers = [\"elav\",\"lncRNA:noe\",\"VAChT\",\"VGlut\",\"Gad1\",\"Vmat\",\"SerT\",\"Tdc2\",\"ple\", # neurons\n",
    "             \"repo\",\"lncRNA:CR34335\",\"alrm\",\"wrapper\",\"Indy\",\"moody\",#glia \n",
    "             \"ninaC\",\t\"trp\",\t\"trpl\", #photoreceptors\n",
    "             \"Hml\", #hemocytes\n",
    "             \"ppl\",#fatbody\n",
    "             \"drpr\"]\n"
   ]
  },
  {
   "cell_type": "code",
   "execution_count": null,
   "id": "4aeac2ed",
   "metadata": {},
   "outputs": [],
   "source": [
    "sc.pl.dotplot(w1118_42d, markers, 'predicted_broadannotation')"
   ]
  },
  {
   "cell_type": "code",
   "execution_count": null,
   "id": "c693eaac",
   "metadata": {},
   "outputs": [],
   "source": [
    "sc.pl.dotplot(w1118_42d, markers, 'predicted_fullannotation')"
   ]
  },
  {
   "cell_type": "code",
   "execution_count": null,
   "id": "858c56ff",
   "metadata": {},
   "outputs": [],
   "source": []
  },
  {
   "cell_type": "code",
   "execution_count": null,
   "id": "47cd6775",
   "metadata": {},
   "outputs": [],
   "source": []
  },
  {
   "cell_type": "code",
   "execution_count": null,
   "id": "2b061b3f",
   "metadata": {},
   "outputs": [],
   "source": []
  }
 ],
 "metadata": {
  "kernelspec": {
   "display_name": "Python 3 (ipykernel)",
   "language": "python",
   "name": "python3"
  },
  "language_info": {
   "codemirror_mode": {
    "name": "ipython",
    "version": 3
   },
   "file_extension": ".py",
   "mimetype": "text/x-python",
   "name": "python",
   "nbconvert_exporter": "python",
   "pygments_lexer": "ipython3",
   "version": "3.12.2"
  }
 },
 "nbformat": 4,
 "nbformat_minor": 5
}
