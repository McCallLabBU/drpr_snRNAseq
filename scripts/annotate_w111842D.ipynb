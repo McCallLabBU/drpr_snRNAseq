{
 "cells": [
  {
   "attachments": {},
   "cell_type": "markdown",
   "id": "3be72c77",
   "metadata": {},
   "source": [
    "# Annotate w1118_42D cells with cell type labels"
   ]
  },
  {
   "cell_type": "code",
   "execution_count": null,
   "id": "88f62669",
   "metadata": {},
   "outputs": [],
   "source": [
    "!python --version"
   ]
  },
  {
   "attachments": {},
   "cell_type": "markdown",
   "id": "09a66117",
   "metadata": {},
   "source": [
    "## Load required packages "
   ]
  },
  {
   "cell_type": "code",
   "execution_count": null,
   "id": "3a3c968a",
   "metadata": {},
   "outputs": [],
   "source": [
    "import numpy as np\n",
    "import pandas as pd\n",
    "import anndata as ad\n",
    "import scanpy as sc\n",
    "import scvi\n",
    "import torch\n",
    "import scarches as sca\n",
    "from scarches.dataset.trvae.data_handling import remove_sparsity\n",
    "from scipy.sparse import csr_matrix\n",
    "from scipy.stats import median_abs_deviation\n",
    "import seaborn as sns\n",
    "from pathlib import Path\n",
    "import matplotlib.pyplot as plt\n",
    "import gdown\n",
    "import copy as cp\n"
   ]
  },
  {
   "cell_type": "code",
   "execution_count": null,
   "id": "af826929",
   "metadata": {},
   "outputs": [],
   "source": [
    "sns.set_style('white')\n",
    "sns.set(font_scale=1.5)\n",
    "sc.settings.set_figure_params(dpi=80, facecolor=\"white\")\n",
    "sc.logging.print_header()\n",
    "sc.settings.verbosity = 3"
   ]
  },
  {
   "attachments": {},
   "cell_type": "markdown",
   "id": "d8999f8e",
   "metadata": {},
   "source": [
    "## Read FCA reference data and w1118_42d data"
   ]
  },
  {
   "cell_type": "code",
   "execution_count": null,
   "id": "d827123a",
   "metadata": {},
   "outputs": [],
   "source": [
    "\n",
    "## Set up I/O directories\n",
    "basepath = Path(\"/projectnb/mccall/sbandyadka/drpr42d_snrnaseq/\")\n",
    "inputpath = basepath.joinpath('analysis','preprocess')\n",
    "referencepath = basepath.joinpath('reference','FCA_head')\n",
    "outputpath = basepath.joinpath('analysis','scarches')\n",
    "outputfile = basepath.joinpath('analysis','scarches','w1118_42D_annotated.h5ad')\n"
   ]
  },
  {
   "cell_type": "code",
   "execution_count": null,
   "id": "376f59b8",
   "metadata": {},
   "outputs": [],
   "source": [
    "## Read in count matrix\n",
    "#w1118_42d = sc.read_10x_mtx(\n",
    "#    inputpath.joinpath('w1118_42D','outs','filtered_feature_bc_matrix'),\n",
    "#    var_names=\"gene_symbols\",  \n",
    "#    cache=True)\n",
    "\n",
    "## Read sctk-qc h5ad \n",
    "w1118_42d = sc.read_h5ad(inputpath.joinpath(\"w1118_42d.h5ad\"))\n",
    "w1118_42d.raw = w1118_42d\n",
    "\n",
    "w1118_42d"
   ]
  },
  {
   "cell_type": "code",
   "execution_count": null,
   "id": "2e19f470",
   "metadata": {},
   "outputs": [],
   "source": [
    "## Read reference h5ad \n",
    "fca_reference = sc.read_h5ad(referencepath.joinpath(\"v2_fca_biohub_head_10x_raw.h5ad\"))\n",
    "fca_reference\n"
   ]
  },
  {
   "cell_type": "code",
   "execution_count": null,
   "id": "1124355a",
   "metadata": {},
   "outputs": [],
   "source": [
    "sc.pl.umap(fca_reference,color=\"annotation\")"
   ]
  },
  {
   "cell_type": "code",
   "execution_count": null,
   "id": "9fdd83da",
   "metadata": {},
   "outputs": [],
   "source": [
    "fca_reference.raw = fca_reference\n",
    "sc.pp.normalize_total(fca_reference)\n",
    "sc.pp.log1p(fca_reference)\n",
    "\n"
   ]
  },
  {
   "cell_type": "code",
   "execution_count": null,
   "id": "ac6773cb",
   "metadata": {},
   "outputs": [],
   "source": [
    "fca_reference.obs[:5]"
   ]
  },
  {
   "cell_type": "code",
   "execution_count": null,
   "id": "c06c46c4",
   "metadata": {},
   "outputs": [],
   "source": [
    "sc.pp.highly_variable_genes(\n",
    "    fca_reference,\n",
    "    n_top_genes=2000,\n",
    "    batch_key=\"batch\",\n",
    "    subset=True)"
   ]
  },
  {
   "cell_type": "code",
   "execution_count": null,
   "id": "c600fd93",
   "metadata": {},
   "outputs": [],
   "source": [
    "sca.models.SCVI.setup_anndata(fca_reference, batch_key=\"batch\")"
   ]
  },
  {
   "cell_type": "code",
   "execution_count": null,
   "id": "69a60c11",
   "metadata": {},
   "outputs": [],
   "source": [
    "import torch"
   ]
  },
  {
   "cell_type": "code",
   "execution_count": null,
   "id": "00e611c1",
   "metadata": {},
   "outputs": [],
   "source": [
    "vae = sca.models.SCVI(\n",
    "    fca_reference,\n",
    "    n_layers=2,\n",
    "    encode_covariates=True,\n",
    "    deeply_inject_covariates=True,\n",
    "    use_layer_norm=\"both\",\n",
    "    use_batch_norm=\"none\"\n",
    ")"
   ]
  },
  {
   "cell_type": "code",
   "execution_count": null,
   "id": "163e54f1",
   "metadata": {},
   "outputs": [],
   "source": [
    "vae.train(max_epochs=80)"
   ]
  },
  {
   "cell_type": "code",
   "execution_count": 2,
   "id": "46163c0e",
   "metadata": {},
   "outputs": [
    {
     "name": "stdout",
     "output_type": "stream",
     "text": [
      "0\n"
     ]
    }
   ],
   "source": [
    "import os\n",
    "print(os.getenv(\"CUDA_VISIBLE_DEVICES\"))"
   ]
  },
  {
   "cell_type": "code",
   "execution_count": 7,
   "id": "645b69ae",
   "metadata": {},
   "outputs": [
    {
     "name": "stdout",
     "output_type": "stream",
     "text": [
      "True\n",
      "1\n",
      "0\n",
      "<torch.cuda.device object at 0x14c28a396540>\n",
      "Tesla V100-PCIE-16GB\n"
     ]
    }
   ],
   "source": [
    "import torch\n",
    "\n",
    "print(torch.cuda.is_available())\n",
    "print(torch.cuda.device_count())\n",
    "print(torch.cuda.current_device())\n",
    "print(torch.cuda.device(0))\n",
    "print(torch.cuda.get_device_name(0))\n"
   ]
  },
  {
   "cell_type": "code",
   "execution_count": 8,
   "id": "21608aca",
   "metadata": {},
   "outputs": [
    {
     "name": "stdout",
     "output_type": "stream",
     "text": [
      "/bin/bash: nvcc: command not found\n"
     ]
    }
   ],
   "source": [
    "!nvcc --version"
   ]
  }
 ],
 "metadata": {
  "kernelspec": {
   "display_name": "Python 3 (ipykernel)",
   "language": "python",
   "name": "python3"
  },
  "language_info": {
   "codemirror_mode": {
    "name": "ipython",
    "version": 3
   },
   "file_extension": ".py",
   "mimetype": "text/x-python",
   "name": "python",
   "nbconvert_exporter": "python",
   "pygments_lexer": "ipython3",
   "version": "3.12.2"
  }
 },
 "nbformat": 4,
 "nbformat_minor": 5
}
